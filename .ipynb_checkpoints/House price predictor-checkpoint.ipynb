{
 "cells": [
  {
   "cell_type": "code",
   "execution_count": null,
   "metadata": {
    "collapsed": true
   },
   "outputs": [],
   "source": []
  },
  {
   "cell_type": "markdown",
   "metadata": {},
   "source": [
    "# Problem statement:"
   ]
  },
  {
   "cell_type": "markdown",
   "metadata": {},
   "source": [
    "A house value is simply more than location and square footage. Like the features that make\n",
    "up a person, an educated party would want to know all aspects that give a house its value. For\n",
    "example, you want to sell a house and you don’t know the price which you can take — it can’t\n",
    "be too low or too high. To find house price you usually try to find similar properties in your\n",
    "neighbourhood and based on gathered data you will try to assess your house price."
   ]
  },
  {
   "cell_type": "markdown",
   "metadata": {},
   "source": [
    "# Objective:"
   ]
  },
  {
   "cell_type": "markdown",
   "metadata": {},
   "source": [
    "Take advantage of all of the feature variables available below, use it to analyse and predict\n",
    "house prices.\n",
    "1. cid: a notation for a house\n",
    "2. dayhours: Date house was sold\n",
    "3. price: Price is prediction target\n",
    "4. room_bed: Number of Bedrooms/House\n",
    "5. room_bath: Number of bathrooms/bedrooms\n",
    "6. living_measure: square footage of the home\n",
    "7. lot_measure: quare footage of the lot\n",
    "8. ceil: Total floors (levels) in house\n",
    "9. coast: House which has a view to a waterfront\n",
    "10. sight: Has been viewed\n",
    "11. condition: How good the condition is (Overall)\n",
    "12. quality: grade given to the housing unit, based on grading system\n",
    "13. ceil_measure: square footage of house apart from basement\n",
    "14. basement_measure: square footage of the basement\n",
    "15. yr_built: Built Year\n",
    "16. yr_renovated: Year when house was renovated\n",
    "17. zipcode: zip\n",
    "18. lat: Latitude coordinate\n",
    "19. long: Longitude coordinate\n",
    "20. living_measure15: Living room area in 2015(implies-- some renovations) This might\n",
    "or might not have affected the lotsize area\n",
    "21. lot_measure15: lotSize area in 2015(implies-- some renovations)\n",
    "22. furnished: Based on the quality of room 23: total_area: Measure of both living and lot"
   ]
  },
  {
   "cell_type": "code",
   "execution_count": null,
   "metadata": {},
   "outputs": [],
   "source": []
  }
 ],
 "metadata": {
  "kernelspec": {
   "display_name": "Python 3",
   "language": "python",
   "name": "python3"
  },
  "language_info": {
   "codemirror_mode": {
    "name": "ipython",
    "version": 3
   },
   "file_extension": ".py",
   "mimetype": "text/x-python",
   "name": "python",
   "nbconvert_exporter": "python",
   "pygments_lexer": "ipython3",
   "version": "3.8.5"
  }
 },
 "nbformat": 4,
 "nbformat_minor": 4
}
